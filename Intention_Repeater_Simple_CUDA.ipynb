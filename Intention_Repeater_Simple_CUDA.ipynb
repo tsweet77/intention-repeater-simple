{
  "nbformat": 4,
  "nbformat_minor": 0,
  "metadata": {
    "colab": {
      "provenance": [],
      "gpuType": "T4"
    },
    "kernelspec": {
      "name": "python3",
      "display_name": "Python 3"
    },
    "language_info": {
      "name": "python"
    },
    "accelerator": "GPU"
  },
  "cells": [
    {
      "cell_type": "code",
      "execution_count": 27,
      "metadata": {
        "colab": {
          "base_uri": "https://localhost:8080/"
        },
        "id": "Axp5exnQX7P9",
        "outputId": "195671e3-2af4-4ce2-8de7-9631d49cf4fc"
      },
      "outputs": [
        {
          "output_type": "stream",
          "name": "stdout",
          "text": [
            "--2024-03-24 18:44:34--  https://www.intentionrepeater.com/CUDA/Intention_Repeater_Simple_CUDA.cu\n",
            "Resolving www.intentionrepeater.com (www.intentionrepeater.com)... 74.208.236.73, 2607:f1c0:100f:f000::200\n",
            "Connecting to www.intentionrepeater.com (www.intentionrepeater.com)|74.208.236.73|:443... connected.\n",
            "HTTP request sent, awaiting response... 200 OK\n",
            "Length: 9625 (9.4K) [application/cu-seeme]\n",
            "Saving to: ‘./Intention_Repeater_Simple_CUDA.cu’\n",
            "\n",
            "./Intention_Repeate 100%[===================>]   9.40K  --.-KB/s    in 0s      \n",
            "\n",
            "2024-03-24 18:44:35 (168 MB/s) - ‘./Intention_Repeater_Simple_CUDA.cu’ saved [9625/9625]\n",
            "\n"
          ]
        }
      ],
      "source": [
        "!wget https://www.intentionrepeater.com/CUDA/Intention_Repeater_Simple_CUDA.cu -O ./Intention_Repeater_Simple_CUDA.cu"
      ]
    },
    {
      "cell_type": "code",
      "source": [
        "!wget https://www.intentionrepeater.com/CUDA/picosha2.h -O ./picosha2.h"
      ],
      "metadata": {
        "colab": {
          "base_uri": "https://localhost:8080/"
        },
        "id": "cTjR7SQZZK0A",
        "outputId": "33b6e602-ea37-4dd9-c0b9-caa32d0e9751"
      },
      "execution_count": 28,
      "outputs": [
        {
          "output_type": "stream",
          "name": "stdout",
          "text": [
            "--2024-03-24 18:44:37--  https://www.intentionrepeater.com/CUDA/picosha2.h\n",
            "Resolving www.intentionrepeater.com (www.intentionrepeater.com)... 74.208.236.73, 2607:f1c0:100f:f000::200\n",
            "Connecting to www.intentionrepeater.com (www.intentionrepeater.com)|74.208.236.73|:443... connected.\n",
            "HTTP request sent, awaiting response... 200 OK\n",
            "Length: 13442 (13K) [text/x-chdr]\n",
            "Saving to: ‘./picosha2.h’\n",
            "\n",
            "./picosha2.h        100%[===================>]  13.13K  --.-KB/s    in 0s      \n",
            "\n",
            "2024-03-24 18:44:38 (175 MB/s) - ‘./picosha2.h’ saved [13442/13442]\n",
            "\n"
          ]
        }
      ]
    },
    {
      "cell_type": "code",
      "source": [
        "!nvcc -o ./Intention_Repeater_Simple_CUDA ./Intention_Repeater_Simple_CUDA.cu -diag-suppress 177"
      ],
      "metadata": {
        "id": "Xql9qXbEYce-"
      },
      "execution_count": 29,
      "outputs": []
    },
    {
      "cell_type": "code",
      "source": [
        "!./Intention_Repeater_Simple_CUDA --intent \"I am Love.\" --imem 5 --hashing y --dur 00:01:00"
      ],
      "metadata": {
        "colab": {
          "base_uri": "https://localhost:8080/"
        },
        "id": "Hp9czFUqYoJj",
        "outputId": "c8a5ca83-d5a1-44c3-b853-404093178b72"
      },
      "execution_count": 30,
      "outputs": [
        {
          "output_type": "stream",
          "name": "stdout",
          "text": [
            "Intention Repeater Simple CUDA\n",
            "by Anthro Teacher, WebGPT and Claude 3 Opus\n",
            "\n",
            "[00:01:00] Repeating: (27.170O / 453.347YHz): I am Love.     \n"
          ]
        }
      ]
    }
  ]
}